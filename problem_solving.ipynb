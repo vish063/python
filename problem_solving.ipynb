{
  "nbformat": 4,
  "nbformat_minor": 0,
  "metadata": {
    "colab": {
      "name": "Algorithms.ipynb",
      "provenance": [],
      "collapsed_sections": []
    },
    "kernelspec": {
      "name": "python3",
      "display_name": "Python 3"
    },
    "language_info": {
      "name": "python"
    }
  },
  "cells": [
    {
      "cell_type": "markdown",
      "source": [
        "## **Three pointers sum**\n",
        "\n",
        "Given an integer array nums, return all the triplets [nums[i], nums[j], nums[k]] such that i != j, i != k, and j != k, and nums[i] + nums[j] + nums[k] == 0.\n",
        "\n",
        "Notice that the solution set must not contain duplicate triplets.\n",
        "\n",
        " \n",
        "\n",
        "Example 1:\n",
        "\n",
        "Input: nums = [-1,0,1,2,-1,-4]\n",
        "Output: [[-1,-1,2],[-1,0,1]]"
      ],
      "metadata": {
        "id": "-LVItYOTDjvL"
      }
    },
    {
      "cell_type": "code",
      "source": [
        "from typing import List\n",
        "class Solution:\n",
        "    def threeSum(self, nums: List[int]) -> List[List[int]]:\n",
        "      \n",
        "      triplets = []\n",
        "      for i in range(len(nums)-2):\n",
        "        # Sort the array\n",
        "        nums.sort()\n",
        "        if i > 0 and nums[i] == nums[i-1]:\n",
        "          continue\n",
        "        \n",
        "        left = i + 1\n",
        "        right = len(nums)-1\n",
        "        while left < right:\n",
        "          sum =  nums[i] + nums[left] + nums[right]\n",
        "          if sum == 0:\n",
        "            triplets.append([nums[i], nums[left], nums[right]])\n",
        "            while nums[left] == nums[left+1]:\n",
        "              left +=1\n",
        "            while nums[right] == nums[right - 1]:\n",
        "              right -=1\n",
        "            left +=1\n",
        "            right -=1\n",
        "          elif sum > 0:\n",
        "            right -=1\n",
        "          else:\n",
        "            left +=1\n",
        "      \n",
        "      return triplets\n",
        "\n",
        "        "
      ],
      "metadata": {
        "id": "OT5aHoNZDbbF"
      },
      "execution_count": 29,
      "outputs": []
    },
    {
      "cell_type": "code",
      "source": [
        "s = Solution()\n",
        "s.threeSum([-1,-2,-3,0,1,2,3,4,-4,-5])"
      ],
      "metadata": {
        "colab": {
          "base_uri": "https://localhost:8080/"
        },
        "id": "GtLNs0j_Gks3",
        "outputId": "14589587-5ef1-4897-e457-8c9f886cb56f"
      },
      "execution_count": 30,
      "outputs": [
        {
          "output_type": "execute_result",
          "data": {
            "text/plain": [
              "[[-5, 1, 4],\n",
              " [-5, 2, 3],\n",
              " [-4, 0, 4],\n",
              " [-4, 1, 3],\n",
              " [-3, -1, 4],\n",
              " [-3, 0, 3],\n",
              " [-3, 1, 2],\n",
              " [-2, -1, 3],\n",
              " [-2, 0, 2],\n",
              " [-1, 0, 1]]"
            ]
          },
          "metadata": {},
          "execution_count": 30
        }
      ]
    },
    {
      "cell_type": "markdown",
      "source": [
        "## **3Sum Closest**\n",
        "Given an integer array nums of length n and an integer target, find three integers in nums such that the sum is closest to target.\n",
        "\n",
        "Return the sum of the three integers.\n",
        "\n",
        "You may assume that each input would have exactly one solution.\n",
        "\n",
        " \n",
        "\n",
        "Example 1:\n",
        "\n",
        "Input: nums = [-1,2,1,-4], target = 1\n",
        "Output: 2\n",
        "Explanation: The sum that is closest to the target is 2. (-1 + 2 + 1 = 2).\n",
        "Example 2:\n",
        "\n",
        "Input: nums = [0,0,0], target = 1\n",
        "Output: 0"
      ],
      "metadata": {
        "id": "hBK7QhFJMLN8"
      }
    },
    {
      "cell_type": "code",
      "source": [
        "from typing import List\n",
        "class Solution:\n",
        "    def threeSumClosest(self, nums: List[int], target: int) -> int:\n",
        "      \n",
        "      closest = None\n",
        "      prev_diff = None\n",
        "      for i in range(len(nums)-2):\n",
        "        # Sort the array\n",
        "        nums.sort()\n",
        "        if i > 0 and nums[i] == nums[i-1]:\n",
        "          continue\n",
        "        \n",
        "        left = i + 1\n",
        "        right = len(nums)-1\n",
        "        while left < right:\n",
        "          sum =  nums[i] + nums[left] + nums[right]\n",
        "          diff = target - sum\n",
        "          if closest == None and prev_diff == None:\n",
        "            closest = sum\n",
        "            prev_diff = diff\n",
        "          elif abs(diff) < abs(prev_diff):\n",
        "            closest = sum\n",
        "            prev_diff = diff \n",
        "          if sum > target:\n",
        "            right -=1\n",
        "          else:\n",
        "            left +=1\n",
        "      \n",
        "      return closest"
      ],
      "metadata": {
        "id": "v6DUt4Ch7guu"
      },
      "execution_count": 31,
      "outputs": []
    },
    {
      "cell_type": "code",
      "source": [
        "s = Solution()\n",
        "s.threeSumClosest([-1,2,1,-4], 1)"
      ],
      "metadata": {
        "colab": {
          "base_uri": "https://localhost:8080/"
        },
        "id": "flX1yaQB9M6z",
        "outputId": "89e2b7db-5a9e-4c8a-d2fe-5693d307cab4"
      },
      "execution_count": 32,
      "outputs": [
        {
          "output_type": "execute_result",
          "data": {
            "text/plain": [
              "2"
            ]
          },
          "metadata": {},
          "execution_count": 32
        }
      ]
    },
    {
      "cell_type": "markdown",
      "source": [
        "**## 35. Search Insert Position**\n",
        "Given a sorted array of distinct integers and a target value, return the index if the target is found. If not, return the index where it would be if it were inserted in order.\n",
        "\n",
        "You must write an algorithm with O(log n) runtime complexity.\n",
        "\n",
        " "
      ],
      "metadata": {
        "id": "7kFESJtq-Nz_"
      }
    },
    {
      "cell_type": "code",
      "source": [
        "import pdb\n",
        "from typing import List\n",
        "class Solution:\n",
        "    def searchInsert(self, nums: List[int], target: int) -> int:\n",
        "      mid = None\n",
        "      low,high=0,len(nums)-1\n",
        "      while low < high:\n",
        "        mid = low + (high - low) // 2\n",
        "        if nums[mid] == target:\n",
        "          return mid\n",
        "        elif nums[mid] < target:\n",
        "          low =  mid+1\n",
        "        else:\n",
        "           high = mid-1\n",
        "          \n",
        "      if nums[low] == target:\n",
        "        return low\n",
        "      elif nums[low] < target:\n",
        "          return low+1\n",
        "      else:\n",
        "        if low == 0:\n",
        "          return 0\n",
        "        return low\n",
        "        "
      ],
      "metadata": {
        "id": "PkFMYF96Jv1M"
      },
      "execution_count": null,
      "outputs": []
    },
    {
      "cell_type": "code",
      "source": [
        "S = Solution()\n",
        "S.searchInsert([1,2,5,6], 7)\n",
        "#S.searchInsert([1,3], 2)"
      ],
      "metadata": {
        "colab": {
          "base_uri": "https://localhost:8080/"
        },
        "id": "KOrt7vkKOmuW",
        "outputId": "fcb39f61-b879-4b3c-e6c2-694ca13c6315"
      },
      "execution_count": null,
      "outputs": [
        {
          "output_type": "execute_result",
          "data": {
            "text/plain": [
              "4"
            ]
          },
          "metadata": {},
          "execution_count": 19
        }
      ]
    },
    {
      "cell_type": "code",
      "source": [
        "s = Solution()\n",
        "# %debug\n",
        "s.searchInsert([1,3,5,6], 0)"
      ],
      "metadata": {
        "colab": {
          "base_uri": "https://localhost:8080/"
        },
        "id": "zAQpaZR2SYww",
        "outputId": "bf6f5d10-1b38-4c49-86fd-ddb5b93a8043"
      },
      "execution_count": null,
      "outputs": [
        {
          "output_type": "execute_result",
          "data": {
            "text/plain": [
              "0"
            ]
          },
          "metadata": {},
          "execution_count": 45
        }
      ]
    },
    {
      "cell_type": "markdown",
      "source": [
        "##  35. Search Insert Position\n",
        "\n",
        "You are a product manager and currently leading a team to develop a new product. Unfortunately, the latest version of your product fails the quality check. Since each version is developed based on the previous version, all the versions after a bad version are also bad.\n",
        "\n",
        "Suppose you have n versions [1, 2, ..., n] and you want to find out the first bad one, which causes all the following ones to be bad.\n",
        "\n",
        "You are given an API bool isBadVersion(version) which returns whether version is bad. Implement a function to find the first bad version. You should minimize the number of calls to the API.\n",
        "\n",
        "Example 1:\n",
        "\n",
        "Input: n = 5, bad = 4\n",
        "Output: 4\n",
        "Explanation:\n",
        "call isBadVersion(3) -> false\n",
        "call isBadVersion(5) -> true\n",
        "call isBadVersion(4) -> true\n",
        "Then 4 is the first bad version.\n"
      ],
      "metadata": {
        "id": "gPBx8KXDZBBR"
      }
    },
    {
      "cell_type": "code",
      "source": [
        "# The isBadVersion API is already defined for you.\n",
        "# def isBadVersion(version: int) -> bool:\n",
        "import pdb\n",
        "class Solution:\n",
        "    def isBadVersion(self, version: int) -> bool:\n",
        "      if version >= 1702766719:\n",
        "        return True\n",
        "      return False\n",
        "\n",
        "    def firstBadVersion(self, n: int) -> int:\n",
        "      low, high = 1, n\n",
        "      mid = None\n",
        "      firstBad = None\n",
        "      while low < high:\n",
        "        mid = low + (high-low) // 2\n",
        "        if self.isBadVersion(mid) == False:\n",
        "          low = mid+1\n",
        "\n",
        "          \n",
        "        else:\n",
        "          firstBad = mid\n",
        "          high = mid - 1\n",
        "      # pdb.set_trace()\n",
        "      if firstBad != None:\n",
        "        if self.isBadVersion(low) == True and low < firstBad:\n",
        "            return low\n",
        "        else:\n",
        "            return firstBad\n",
        "      else:\n",
        "        return low\n",
        "        "
      ],
      "metadata": {
        "id": "ZVg3ULiRZAbr"
      },
      "execution_count": null,
      "outputs": []
    },
    {
      "cell_type": "code",
      "source": [
        "B = Solution()\n",
        "B.firstBadVersion(2126753390)\n",
        "# 2126753390\n",
        "# 1702766719"
      ],
      "metadata": {
        "colab": {
          "base_uri": "https://localhost:8080/"
        },
        "id": "niEmia9nlqM_",
        "outputId": "43395262-f74d-4702-9029-affcaeb670e8"
      },
      "execution_count": null,
      "outputs": [
        {
          "output_type": "execute_result",
          "data": {
            "text/plain": [
              "1702766719"
            ]
          },
          "metadata": {},
          "execution_count": 9
        }
      ]
    },
    {
      "cell_type": "code",
      "source": [
        "[2,7,6][1:1]\n",
        "for i in range(2, 10):\n",
        "  print(i)\n",
        "sum([1])"
      ],
      "metadata": {
        "colab": {
          "base_uri": "https://localhost:8080/"
        },
        "id": "TSeaVvNNM2qH",
        "outputId": "82270338-bcb7-48ad-bcdb-3edd11045b59"
      },
      "execution_count": null,
      "outputs": [
        {
          "output_type": "stream",
          "name": "stdout",
          "text": [
            "2\n",
            "3\n",
            "4\n",
            "5\n",
            "6\n",
            "7\n",
            "8\n",
            "9\n"
          ]
        },
        {
          "output_type": "execute_result",
          "data": {
            "text/plain": [
              "1"
            ]
          },
          "metadata": {},
          "execution_count": 4
        }
      ]
    },
    {
      "cell_type": "markdown",
      "source": [
        "**Merge Sort**"
      ],
      "metadata": {
        "id": "bqNRpdXB8kDW"
      }
    },
    {
      "cell_type": "code",
      "source": [
        "import pdb\n",
        "def merge_sort(arr):\n",
        "  if len(arr) < 2:\n",
        "    return arr\n",
        "  \n",
        "  mid = len(arr) // 2\n",
        "  l_arr = merge_sort(arr[:mid])\n",
        "  r_arr = merge_sort(arr[mid:])\n",
        "  return merge(l_arr, r_arr)\n",
        "\n",
        "\n",
        "def merge(l_arr, r_arr):\n",
        "  s_arr = []\n",
        "  l_len = len(l_arr)\n",
        "  i= 0\n",
        "  j = 0\n",
        "  while i < len(l_arr) and j < len(r_arr):\n",
        "    if l_arr[i] < r_arr[j]:\n",
        "      s_arr.append(l_arr[i])\n",
        "      i +=1\n",
        "    else:\n",
        "      s_arr.append(r_arr[j])\n",
        "      j +=1\n",
        "  if i < len(l_arr):\n",
        "    s_arr = s_arr + l_arr[i:]\n",
        "\n",
        "  if j < len(r_arr):\n",
        "    s_arr += r_arr[j:]\n",
        "\n",
        "  return s_arr\n",
        "\n",
        "\n",
        "\n",
        "def main():\n",
        "  i_array = []\n",
        "  while True:\n",
        "    num = int(input('Enter number | enter -1 to break'))\n",
        "    if num == -1:\n",
        "      break\n",
        "    i_array.append(num)\n",
        "  \n",
        "  print('Array before sort: \\n')\n",
        "  print(i_array)\n",
        "  s_array = merge_sort(i_array)\n",
        "  print('Array after sort: \\n')\n",
        "  print(s_array)\n",
        "\n",
        "\n",
        "if __name__ == '__main__':\n",
        "  main()"
      ],
      "metadata": {
        "colab": {
          "base_uri": "https://localhost:8080/"
        },
        "id": "nvRm1X_S8mfn",
        "outputId": "af491cff-c854-4ff0-a8df-86a7476cefc0"
      },
      "execution_count": null,
      "outputs": [
        {
          "output_type": "stream",
          "name": "stdout",
          "text": [
            "Enter number | enter -1 to break10\n",
            "Enter number | enter -1 to break2\n",
            "Enter number | enter -1 to break3\n",
            "Enter number | enter -1 to break-1\n",
            "Array before sort: \n",
            "\n",
            "[10, 2, 3]\n",
            "Array after sort: \n",
            "\n",
            "[2, 3, 10]\n"
          ]
        }
      ]
    },
    {
      "cell_type": "markdown",
      "source": [
        "### 53. Maximum Subarray\n",
        "\n",
        "Given an integer array nums, find the contiguous subarray (containing at least one number) which has the largest sum and return its sum.\n",
        "\n",
        "A subarray is a contiguous part of an array."
      ],
      "metadata": {
        "id": "ll3cuG9AeZqQ"
      }
    },
    {
      "cell_type": "code",
      "source": [
        "from typing import List\n",
        "class Solution:\n",
        "    def maxSubArray(self, nums: List[int]) -> int:\n",
        "        maxSum = None\n",
        "        maxArr = None\n",
        "        for i in range(0, len(nums)):\n",
        "            j = i+1\n",
        "            while j <=  len(nums):\n",
        "                if (maxSum == None) or (sum(nums[i:j]) > maxSum):\n",
        "                    maxArr = nums[i:j]\n",
        "                    maxSum = sum(nums[i:j])\n",
        "                j +=1\n",
        "        return maxSum\n",
        "        "
      ],
      "metadata": {
        "id": "lIsUnswseVvn"
      },
      "execution_count": 33,
      "outputs": []
    },
    {
      "cell_type": "code",
      "source": [
        ""
      ],
      "metadata": {
        "id": "Kq4m5q9BBYEX"
      },
      "execution_count": null,
      "outputs": []
    },
    {
      "cell_type": "code",
      "source": [
        "mS = Solution()\n",
        "mS.maxSubArray( [-2,1,-3,4,-1,2,1,-5,4])"
      ],
      "metadata": {
        "id": "qSKfeBQS-MFZ",
        "colab": {
          "base_uri": "https://localhost:8080/"
        },
        "outputId": "4e7a0d10-d135-4d34-a675-e97fe89a22ee"
      },
      "execution_count": 34,
      "outputs": [
        {
          "output_type": "execute_result",
          "data": {
            "text/plain": [
              "6"
            ]
          },
          "metadata": {},
          "execution_count": 34
        }
      ]
    },
    {
      "cell_type": "markdown",
      "source": [
        "**Guess Number Higher or Lower**\n",
        "\n",
        "We are playing the Guess Game. The game is as follows:\n",
        "\n",
        "I pick a number from 1 to n. You have to guess which number I picked.\n",
        "\n",
        "Every time you guess wrong, I will tell you whether the number I picked is higher or lower than your guess.\n",
        "\n",
        "You call a pre-defined API int guess(int num), which returns three possible results:\n",
        "\n",
        "-1: Your guess is higher than the number I picked (i.e. num > pick).\n",
        "1: Your guess is lower than the number I picked (i.e. num < pick).\n",
        "0: your guess is equal to the number I picked (i.e. num == pick).\n",
        "Return the number that I picked.\n",
        "\n",
        " \n",
        "\n",
        "Example 1:\n",
        "\n",
        "Input: n = 10, pick = 6\n",
        "Output: 6"
      ],
      "metadata": {
        "id": "X1PDSpfmBbJh"
      }
    },
    {
      "cell_type": "code",
      "source": [
        "# The guess API is already defined for you.\n",
        "# param num, your guess\n",
        "# return -1 if my number is lower, 1 if my number is higher, otherwise return 0\n",
        "# def guess(num: int) -> int:\n",
        "\n",
        "## API\n",
        "import random\n",
        "def set_guess_number(n):\n",
        " global guessed_num \n",
        " guessed_num = random.randint(0, n)\n",
        " print(f'Guessed_num: {guessed_num}')\n",
        "\n",
        "def guess(num):\n",
        "  if num < guessed_num:\n",
        "    return 1\n",
        "  elif num > guessed_num:\n",
        "    return -1\n",
        "  else:\n",
        "    return 0\n",
        "\n",
        "class Solution:\n",
        "    def guessNumber(self, n: int) -> int:\n",
        "        set_guess_number(n)\n",
        "        low=1\n",
        "        high = n\n",
        "        mid = None\n",
        "        while low < high:\n",
        "            mid = low + (high - low) // 2\n",
        "            if guess(mid) == -1:\n",
        "                high = mid - 1\n",
        "            elif guess(mid) == 1:\n",
        "                low = mid + 1\n",
        "            else:\n",
        "                return mid\n",
        "        return low\n",
        "            \n",
        "        "
      ],
      "metadata": {
        "id": "q8iFI6saBtt2"
      },
      "execution_count": 27,
      "outputs": []
    },
    {
      "cell_type": "code",
      "source": [
        "gs = Solution()\n",
        "gs.guessNumber(10)"
      ],
      "metadata": {
        "colab": {
          "base_uri": "https://localhost:8080/"
        },
        "id": "Poli8QGLCgrW",
        "outputId": "e55ded71-014a-40b1-9ddf-68fee175fa57"
      },
      "execution_count": 28,
      "outputs": [
        {
          "output_type": "stream",
          "name": "stdout",
          "text": [
            "Guessed_num: 8\n"
          ]
        },
        {
          "output_type": "execute_result",
          "data": {
            "text/plain": [
              "8"
            ]
          },
          "metadata": {},
          "execution_count": 28
        }
      ]
    }
  ]
}